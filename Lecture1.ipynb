{
  "nbformat": 4,
  "nbformat_minor": 0,
  "metadata": {
    "colab": {
      "name": "Lecture1.ipynb",
      "provenance": [],
      "collapsed_sections": [],
      "authorship_tag": "ABX9TyOYSC7f/yGMvxstQ+7L379A",
      "include_colab_link": true
    },
    "kernelspec": {
      "name": "python3",
      "display_name": "Python 3"
    }
  },
  "cells": [
    {
      "cell_type": "markdown",
      "metadata": {
        "id": "view-in-github",
        "colab_type": "text"
      },
      "source": [
        "<a href=\"https://colab.research.google.com/github/ignatenko/GameTheoryKMA/blob/master/Lecture1.ipynb\" target=\"_parent\"><img src=\"https://colab.research.google.com/assets/colab-badge.svg\" alt=\"Open In Colab\"/></a>"
      ]
    },
    {
      "cell_type": "code",
      "metadata": {
        "id": "9e21HDjlsH2N",
        "colab_type": "code",
        "colab": {}
      },
      "source": [
        "Всього 120 год.\n",
        "Лекцій 22 год.\n",
        "Практ. 22 год.\n",
        "Сам. роб. 76 год.\n",
        "Кредити ЄКТС 4,0\n",
        "екзамен"
      ],
      "execution_count": 0,
      "outputs": []
    },
    {
      "cell_type": "markdown",
      "metadata": {
        "id": "cEzsrRrS5sln",
        "colab_type": "text"
      },
      "source": [
        ""
      ]
    }
  ]
}